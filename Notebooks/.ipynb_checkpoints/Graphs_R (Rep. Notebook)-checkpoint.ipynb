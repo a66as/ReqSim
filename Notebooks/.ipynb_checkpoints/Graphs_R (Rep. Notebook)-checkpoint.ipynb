{
 "cells": [
  {
   "cell_type": "markdown",
   "id": "24019db8",
   "metadata": {},
   "source": [
    "#### Human rate score vs pipeline score"
   ]
  },
  {
   "cell_type": "code",
   "execution_count": null,
   "id": "ff7b99c5",
   "metadata": {},
   "outputs": [],
   "source": [
    "#xaxis_label = 'Mini-LM' \n",
    "\n",
    "#file_path <- \"../STS_results/Sentence_transformers/all-MiniLM-L6-v2/minilm_sts_results.csv\"\n",
    "#save_dir <- '..//Graphs//STS//Pipelines vs. HRS Graphs/'"
   ]
  },
  {
   "cell_type": "code",
   "execution_count": null,
   "id": "3fc6e469",
   "metadata": {},
   "outputs": [],
   "source": [
    "data <- read.csv(file_path)\n",
    "calculated_sim_columns <- colnames(data)[(ncol(data) - 2):(ncol(data))]\n",
    "\n",
    "for (col_name in calculated_sim_columns) {\n",
    "    \n",
    "  par(mar = c(9, 15, 5, 0.6))\n",
    "  calculated_sim <- data[, col_name]\n",
    "  human_score <- data$similarity_score / 5.0\n",
    "\n",
    "  if (grepl(\"b_\", col_name)) {\n",
    "    model_name_axis <- paste('b', xaxis_label, sep = \"\")\n",
    "  } \n",
    "  else if (grepl(\"p_\", col_name)) {\n",
    "    model_name_axis <- paste('p', xaxis_label, sep = \"\")\n",
    "  } \n",
    "   else {\n",
    "    model_name_axis <- xaxis_label\n",
    "  }\n",
    "    \n",
    "  pdf_file_path <- paste(save_dir, model_name_axis, \"_plot.pdf\", sep = \"\")\n",
    "  pdf(pdf_file_path)\n",
    "\n",
    "  plot(human_score, calculated_sim,\n",
    "       xlab = 'HRS', ylab = model_name_axis,\n",
    "       pch = 3, frame = FALSE, \n",
    "       cex.axis = 1.3, cex.lab = 1.3)\n",
    "    \n",
    "  abline(lm(calculated_sim ~ human_score), col = \"blue\", lwd = 1.5)\n",
    "  \n",
    "  #cat(\"column name :\", col_name, \"\\n\")\n",
    "  dev.off()\n",
    "  cat(\"Scatter plot saved in the folder:\", pdf_file_path, \"\\n\")\n",
    "}\n"
   ]
  },
  {
   "cell_type": "markdown",
   "id": "93f7ed10",
   "metadata": {},
   "source": [
    "### STS graphs"
   ]
  },
  {
   "cell_type": "markdown",
   "id": "961da2df",
   "metadata": {},
   "source": [
    "#### RHO GRAPH"
   ]
  },
  {
   "cell_type": "code",
   "execution_count": 327,
   "id": "fb9d8c32",
   "metadata": {},
   "outputs": [],
   "source": [
    "\n",
    "models <- c('JSI', 'bJSI', 'pJSI', \n",
    "            'TFIDF', 'bTFIDF', 'pTFIDF', \n",
    "            'GLV', 'bGLV', 'pGLV', \n",
    "            'FT', 'bFT', 'pFT',\n",
    "            'BERT-Avg.', 'bBERT-Avg.', 'pBERT-Avg.',\n",
    "            'BERT-CLS', 'bBERT-CLS', 'pBERT-CLS',\n",
    "            'Mini-LM', 'bMini-LM', 'pMini-LM',\n",
    "            'ST-Roberta', 'bST-Roberta', 'pST-Roberta',\n",
    "            'USE', 'bUSE', 'pUSE'\n",
    "           \n",
    "           )\n",
    "sts_pearson_score <- c(0.567, 0.649, 0.698,\n",
    "                       0.590, 0.614, 0.642,\n",
    "                       0.4, 0.476, 0.663, \n",
    "                       0.472, 0.536, 0.713,\n",
    "                       0.592, 0.586, 0.614,\n",
    "                       0.313, 0.341, 0.408,\n",
    "                       0.837, 0.834, 0.819,\n",
    "                       0.876, 0.854, 0.818,\n",
    "                       0.806, 0.801, 0.781\n",
    "                        ) \n",
    "\n",
    "sts_spearman_score <- c(0.575, 0.655, 0.707,\n",
    "                       0.591, 0.614, 0.635,\n",
    "                       0.445, 0.517, 0.665, \n",
    "                       0.487, 0.548, 0.706,\n",
    "                       0.592, 0.585, 0.602,\n",
    "                       0.344, 0.372, 0.437,\n",
    "                       0.824, 0.820, 0.804,\n",
    "                       0.873, 0.846, 0.806,\n",
    "                       0.795, 0.789, 0.767\n",
    "                        ) \n"
   ]
  },
  {
   "cell_type": "code",
   "execution_count": 328,
   "id": "c8e53777",
   "metadata": {},
   "outputs": [
    {
     "data": {
      "text/html": [
       "<strong>pdf:</strong> 2"
      ],
      "text/latex": [
       "\\textbf{pdf:} 2"
      ],
      "text/markdown": [
       "**pdf:** 2"
      ],
      "text/plain": [
       "pdf \n",
       "  2 "
      ]
     },
     "metadata": {},
     "output_type": "display_data"
    }
   ],
   "source": [
    "pdf_file_path <- paste('..//Graphs/', \n",
    "                       \"sts_rho_graph\", \".pdf\", sep = \"\")\n",
    "\n",
    "\n",
    "pdf(pdf_file_path, width = 7)\n",
    "par(mar = c(10, 3, 5, 0))\n",
    "\n",
    "plot(1:length(models), sts_pearson_score, type=\"n\",\n",
    "       xaxt = \"n\",\n",
    "       xlab = \"\", ylab = \"\",\n",
    "       pch = 19, frame = FALSE, \n",
    "       ylim=c(0.2, 0.9),\n",
    "       cex.axis = 1.3, cex.lab = 1.3)\n",
    "\n",
    "title(xlab = \"Pipelines\", line = 8, cex.lab=1.2)\n",
    "title(ylab = \"rho\", line = 2, cex.lab=1.2) \n",
    "\n",
    "lines(1:3, sts_pearson_score[1:3], type = \"o\", pch = 19, lwd=2)\n",
    "lines(4:6, sts_pearson_score[4:6], type = \"o\", pch = 19,lwd=2)\n",
    "lines(7:9, sts_pearson_score[7:9], type = \"o\", pch = 19, lwd=2)\n",
    "lines(10:12, sts_pearson_score[10:12], type = \"o\", pch = 19, lwd=2)\n",
    "lines(13:15, sts_pearson_score[13:15], type = \"o\", pch = 19, lwd=2)\n",
    "lines(16:18, sts_pearson_score[16:18], type = \"o\", pch = 19, lwd=2)\n",
    "lines(19:21, sts_pearson_score[19:21], type = \"o\", pch = 19, lwd=2)\n",
    "lines(22:24, sts_pearson_score[22:24], type = \"o\", pch = 19, lwd=2)\n",
    "lines(25:27, sts_pearson_score[25:27], type = \"o\", pch = 19, lwd=2)\n",
    "\n",
    "\n",
    "lines(1:3, sts_spearman_score[1:3], type = \"o\", pch = 2,col = \"#808080\", lwd=2)\n",
    "lines(4:6, sts_spearman_score[4:6], type = \"o\", pch = 2, col = \"#808080\", lwd=2)\n",
    "lines(7:9, sts_spearman_score[7:9], type = \"o\", pch = 2, col = \"#808080\", lwd=2)\n",
    "lines(10:12, sts_spearman_score[10:12], type = \"o\", pch = 2, col = \"#808080\", lwd=2)\n",
    "lines(13:15, sts_spearman_score[13:15], type = \"o\", pch = 2, col = \"#808080\", lwd=2)\n",
    "lines(16:18, sts_spearman_score[16:18], type = \"o\", pch = 2, col = \"#808080\", lwd=2)\n",
    "lines(19:21, sts_spearman_score[19:21], type = \"o\", pch = 2, col = \"#808080\", lwd=2)\n",
    "lines(22:24, sts_spearman_score[22:24], type = \"o\", pch = 2, col = \"#808080\", lwd=2)\n",
    "lines(25:27, sts_spearman_score[25:27], type = \"o\", pch = 2, col = \"#808080\", lwd=2)\n",
    "\n",
    "\n",
    "axis(1, at = 1:length(models), labels = FALSE, las = 1, cex.axis = 2)\n",
    "\n",
    "text(1:length(models), par(\"usr\")[3]-0.03, \n",
    "     srt = 60, adj = 1, xpd = TRUE,\n",
    "     labels = paste(models), cex = 1.3)\n",
    "\n",
    "legend(1, 0.9, legend = c(\"Pearson rho (STS)\", \"Spearman rho (STS)\"), \n",
    "       col = c(\"black\", \"#808080\"), \n",
    "       lty = 19, pch = c(19, 2), cex = 1.2)\n",
    "\n",
    "dev.off()"
   ]
  },
  {
   "cell_type": "markdown",
   "id": "37eed782",
   "metadata": {},
   "source": [
    "### performance metrics graph"
   ]
  },
  {
   "cell_type": "code",
   "execution_count": 30,
   "id": "6a94753d",
   "metadata": {},
   "outputs": [],
   "source": [
    "models <- c('JSI', 'bJSI', 'pJSI', \n",
    "            'TFIDF', 'bTFIDF', 'pTFIDF', \n",
    "            'GLV', 'bGLV', 'pGLV', \n",
    "            'FT', 'bFT', 'pFT',\n",
    "            'BERT-Avg.', 'bBERT-Avg.', 'pBERT-Avg.',\n",
    "            'BERT-CLS', 'bBERT-CLS', 'pBERT-CLS',\n",
    "            'Mini-LM', 'bMini-LM', 'pMini-LM',\n",
    "            'ST-Roberta', 'bST-Roberta', 'pST-Roberta',\n",
    "           'USE', 'bUSE', 'pUSE')\n",
    "           \n",
    "           \n",
    "precision_score <- c(0.772, 0.772, 0.769,\n",
    "                     0.773, 0.775, 0.786,\n",
    "                     0.774, 0.766, 0.775,\n",
    "                     0.776, 0.774, 0.772,\n",
    "                     0.778, 0.775, 0.784,\n",
    "                     0.785, 0.783, 0.814,\n",
    "                     0.754, 0.752, 0.757,\n",
    "                     0.784, 0.782, 0.784,\n",
    "                     0.755, 0.757, 0.761\n",
    "                    ) \n",
    "\n",
    "recall_score <- c(0.795, 0.84, 0.853,\n",
    "                  0.761, 0.783, 0.777,\n",
    "                  0.76, 0.81, 0.851,\n",
    "                  0.796, 0.819, 0.867,\n",
    "                  0.77, 0.768, 0.745,\n",
    "                  0.573, 0.593, 0.591,\n",
    "                  0.909, 0.91, 0.908,\n",
    "                  0.899, 0.902, 0.888,\n",
    "                  0.903, 0.902, 0.897\n",
    "                        ) \n",
    "\n",
    "\n",
    "f1_score <- c(0.783, 0.805, 0.809,\n",
    "              0.767, 0.779, 0.782,\n",
    "              0.767, 0.787, 0.812,\n",
    "              0.786, 0.796, 0.817,\n",
    "             0.774, 0.772, 0.764,\n",
    "              0.662, 0.675, 0.685,\n",
    "              0.824, 0.823, 0.826,\n",
    "              0.838, 0.838, 0.832,\n",
    "              0.822, 0.823, 0.824\n",
    "             ) \n",
    "\n"
   ]
  },
  {
   "cell_type": "code",
   "execution_count": 43,
   "id": "b6c9268d",
   "metadata": {},
   "outputs": [
    {
     "data": {
      "text/html": [
       "<strong>pdf:</strong> 2"
      ],
      "text/latex": [
       "\\textbf{pdf:} 2"
      ],
      "text/markdown": [
       "**pdf:** 2"
      ],
      "text/plain": [
       "pdf \n",
       "  2 "
      ]
     },
     "metadata": {},
     "output_type": "display_data"
    }
   ],
   "source": [
    "pdf_file_path <- paste('..//Graphs//STS/', \n",
    "                       \"STS_reuse_results\", \".pdf\",\n",
    "                       sep = \"\")\n",
    "\n",
    "\n",
    "pdf(pdf_file_path, width = 7)\n",
    "par(mar = c(10, 3, 5, 0))\n",
    "\n",
    "plot(1:length(models), precision_score, type=\"n\",\n",
    "       xaxt = \"n\",\n",
    "       xlab = \"\", ylab = \"\",\n",
    "       pch = 19, frame = FALSE, \n",
    "       ylim=c(0.2, 0.9),\n",
    "       cex.axis = 1.3, cex.lab = 1.3)\n",
    "\n",
    "title(xlab = \"Pipelines\", line = 8, cex.lab=1.2)\n",
    "title(ylab = \"score\", line = 2, cex.lab=1.2) \n",
    "\n",
    "lines(1:3, precision_score[1:3], type = \"o\", pch = 19, lwd=2)\n",
    "lines(4:6, precision_score[4:6], type = \"o\", pch = 19,lwd=2)\n",
    "lines(7:9, precision_score[7:9], type = \"o\", pch = 19, lwd=2)\n",
    "lines(10:12, precision_score[10:12], type = \"o\", pch = 19, lwd=2)\n",
    "lines(13:15, precision_score[13:15], type = \"o\", pch = 19, lwd=2)\n",
    "lines(16:18, precision_score[16:18], type = \"o\", pch = 19, lwd=2)\n",
    "lines(19:21, precision_score[19:21], type = \"o\", pch = 19, lwd=2)\n",
    "lines(22:24, precision_score[22:24], type = \"o\", pch = 19, lwd=2)\n",
    "lines(25:27, precision_score[25:27], type = \"o\", pch = 19, lwd=2)\n",
    "\n",
    "\n",
    "lines(1:3, recall_score[1:3], type = \"o\", pch = 2,col = \"#808080\", lwd=2)\n",
    "lines(4:6, recall_score[4:6], type = \"o\", pch = 2, col = \"#808080\", lwd=2)\n",
    "lines(7:9, recall_score[7:9], type = \"o\", pch = 2, col = \"#808080\", lwd=2)\n",
    "lines(10:12, recall_score[10:12], type = \"o\", pch = 2, col = \"#808080\", lwd=2)\n",
    "lines(13:15, recall_score[13:15], type = \"o\", pch = 2, col = \"#808080\", lwd=2)\n",
    "lines(16:18, recall_score[16:18], type = \"o\", pch = 2, col = \"#808080\", lwd=2)\n",
    "lines(19:21, recall_score[19:21], type = \"o\", pch = 2, col = \"#808080\", lwd=2)\n",
    "lines(22:24, recall_score[22:24], type = \"o\", pch = 2, col = \"#808080\", lwd=2)\n",
    "lines(25:27, recall_score[25:27], type = \"o\", pch = 2, col = \"#808080\", lwd=2)\n",
    "\n",
    "lines(1:3, f1_score[1:3], type = \"o\", pch = 3,col = \"#ADD8E6\", lwd=2)\n",
    "lines(4:6, f1_score[4:6], type = \"o\", pch = 3, col = \"#ADD8E6\", lwd=2)\n",
    "lines(7:9, f1_score[7:9], type = \"o\", pch = 3, col = \"#ADD8E6\", lwd=2)\n",
    "lines(10:12, f1_score[10:12], type = \"o\", pch = 3, col = \"#ADD8E6\", lwd=2)\n",
    "lines(13:15, f1_score[13:15], type = \"o\", pch = 3, col = \"#ADD8E6\", lwd=2)\n",
    "lines(16:18, f1_score[16:18], type = \"o\", pch = 3, col = \"#ADD8E6\", lwd=2)\n",
    "lines(19:21, f1_score[19:21], type = \"o\", pch = 3, col = \"#ADD8E6\", lwd=2)\n",
    "lines(22:24, f1_score[22:24], type = \"o\", pch = 3, col = \"#ADD8E6\", lwd=2)\n",
    "lines(25:27, f1_score[25:27], type = \"o\", pch = 3, col = \"#ADD8E6\", lwd=2)\n",
    "\n",
    "\n",
    "axis(1, at = 1:length(models), labels = FALSE, las = 1, cex.axis = 2)\n",
    "\n",
    "text(1:length(models), par(\"usr\")[3]-0.03, \n",
    "     srt = 60, adj = 1, xpd = TRUE,\n",
    "     labels = paste(models), cex = 1.3)\n",
    "\n",
    "legend(18, 0.5, legend = c(\"Precision (STS)\", \"Recall (STS)\",  \"F1 Score (STS)\"), \n",
    "       col = c(\"black\", \"#808080\", \"#ADD8E6\"), \n",
    "       lty = 19, pch = c(19, 2, 3), cex = 1.2)\n",
    "\n",
    "dev.off()"
   ]
  },
  {
   "cell_type": "markdown",
   "id": "96ef418c",
   "metadata": {},
   "source": [
    "### Industrial Data Graphs "
   ]
  },
  {
   "cell_type": "markdown",
   "id": "6b5f10a1",
   "metadata": {},
   "source": [
    "#### rho graph"
   ]
  },
  {
   "cell_type": "code",
   "execution_count": 193,
   "id": "4f4f50c8",
   "metadata": {},
   "outputs": [],
   "source": [
    "models <- c('JSI', 'bJSI', 'pJSI', \n",
    "            'TFIDF', 'bTFIDF', 'pTFIDF', \n",
    "            'GLV', 'bGLV', 'pGLV', \n",
    "            'FT', 'bFT', 'pFT',\n",
    "            'BERT-Avg.', 'bBERT-Avg.', 'pBERT-Avg.',\n",
    "            'BERT-CLS', 'bBERT-CLS', 'pBERT-CLS',\n",
    "            'Mini-LM', 'bMini-LM', 'pMini-LM',\n",
    "            'ST-Roberta', 'bST-Roberta', 'pST-Roberta',\n",
    "            'USE', 'bUSE', 'pUSE'\n",
    "           \n",
    "           )\n",
    "\n",
    "alstom_pearson_score <- c( 0.502, 0.466, 0.457,\n",
    "                           0.466, 0.462, 0.490,\n",
    "                           0.254, 0.308, 0.278, \n",
    "                           0.171, 0.302, 0.407,\n",
    "                           0.329, 0.301, 0.443,\n",
    "                           0.26, 0.448, 0.227,\n",
    "                           0.459, 0.430, 0.433,\n",
    "                           0.519, 0.510, 0.483,\n",
    "                           0.561, 0.505, 0.444\n",
    "                            ) \n",
    "\n",
    "alstom_spearman_score <- c(0.462, 0.418, 0.461,\n",
    "                           0.481, 0.445, 0.512,\n",
    "                           0.335, 0.436, 0.408, \n",
    "                           0.291, 0.353, 0.462,\n",
    "                           0.288, 0.261, 0.403,\n",
    "                           0.178, 0.401, 0.246,\n",
    "                           0.476, 0.452, 0.441,\n",
    "                           0.509, 0.540, 0.523,\n",
    "                           0.57, 0.479, 0.498\n",
    "                            )"
   ]
  },
  {
   "cell_type": "code",
   "execution_count": 321,
   "id": "1ac71c7c",
   "metadata": {},
   "outputs": [
    {
     "data": {
      "text/html": [
       "<strong>pdf:</strong> 2"
      ],
      "text/latex": [
       "\\textbf{pdf:} 2"
      ],
      "text/markdown": [
       "**pdf:** 2"
      ],
      "text/plain": [
       "pdf \n",
       "  2 "
      ]
     },
     "metadata": {},
     "output_type": "display_data"
    }
   ],
   "source": [
    "pdf_file_path <- paste('..//Graphs/', 'alstom_rho_graph', \".pdf\", sep = \"\")\n",
    "\n",
    "pdf(pdf_file_path, width = 7)\n",
    "par(mar = c(10, 3, 5, 0))\n",
    "\n",
    "plot(1:length(models), alstom_pearson_score, type=\"n\",\n",
    "       xaxt = \"n\",\n",
    "       xlab = \"\", ylab = \"\",\n",
    "       pch = 19, frame = FALSE, \n",
    "       ylim=c(0.1, 0.7),\n",
    "       cex.axis = 1.3, cex.lab = 1.3)\n",
    "\n",
    "title(xlab = \"Pipelines\", line = 8, cex.lab=1.2)\n",
    "title(ylab = \"rho\", line = 2, cex.lab=1.2) \n",
    "\n",
    "lines(1:3, alstom_pearson_score[1:3], type = \"o\", pch = 19, lwd=2)\n",
    "lines(4:6, alstom_pearson_score[4:6], type = \"o\", pch = 19, lwd=2)\n",
    "lines(7:9, alstom_pearson_score[7:9], type = \"o\", pch = 19, lwd=2)\n",
    "lines(10:12, alstom_pearson_score[10:12], type = \"o\", pch = 19, lwd=2)\n",
    "lines(13:15, alstom_pearson_score[13:15], type = \"o\", pch = 19, lwd=2)\n",
    "lines(16:18, alstom_pearson_score[16:18], type = \"o\", pch = 19, lwd=2)\n",
    "lines(19:21, alstom_pearson_score[19:21], type = \"o\", pch = 19, lwd=2)\n",
    "lines(22:24, alstom_pearson_score[22:24], type = \"o\", pch = 19, lwd=2)\n",
    "lines(25:27, alstom_pearson_score[25:27], type = \"o\", pch = 19, lwd=2)\n",
    "\n",
    "\n",
    "lines(1:3, alstom_spearman_score[1:3], type = \"o\", pch = 2,col = \"#808080\", lwd=2)\n",
    "lines(4:6, alstom_spearman_score[4:6], type = \"o\", pch = 2, col = \"#808080\", lwd=2)\n",
    "lines(7:9, alstom_spearman_score[7:9], type = \"o\", pch = 2, col = \"#808080\", lwd=2)\n",
    "lines(10:12, alstom_spearman_score[10:12], type = \"o\", pch = 2, col = \"#808080\", lwd=2)\n",
    "lines(13:15, alstom_spearman_score[13:15], type = \"o\", pch = 2, col = \"#808080\", lwd=2)\n",
    "lines(16:18, alstom_spearman_score[16:18], type = \"o\", pch = 2, col = \"#808080\", lwd=2)\n",
    "lines(19:21, alstom_spearman_score[19:21], type = \"o\", pch = 2, col = \"#808080\", lwd=2)\n",
    "lines(22:24, alstom_spearman_score[22:24], type = \"o\", pch = 2, col = \"#808080\", lwd=2)\n",
    "lines(25:27, alstom_spearman_score[25:27], type = \"o\", pch = 2, col = \"#808080\", lwd=2)\n",
    "\n",
    "\n",
    "axis(1, at = 1:length(models), labels = FALSE, las = 1, cex.axis = 2)\n",
    "\n",
    "text(1:length(models), par(\"usr\")[3]-0.03, \n",
    "     srt = 60, adj = 1, xpd = TRUE,\n",
    "     labels = paste(models), cex = 1.3)\n",
    "\n",
    "\n",
    "\n",
    "legend(1, 0.7, legend = c(\"Pearson rho (Industrial)\", \"Spearman rho (Industrial)\"), \n",
    "       col = c(\"black\", \"#808080\"), \n",
    "       lty = 19, pch = c(19, 2), cex=1.2)\n",
    "\n",
    "dev.off()"
   ]
  }
 ],
 "metadata": {
  "kernelspec": {
   "display_name": "R",
   "language": "R",
   "name": "ir"
  },
  "language_info": {
   "codemirror_mode": "r",
   "file_extension": ".r",
   "mimetype": "text/x-r-source",
   "name": "R",
   "pygments_lexer": "r",
   "version": "4.3.1"
  }
 },
 "nbformat": 4,
 "nbformat_minor": 5
}
